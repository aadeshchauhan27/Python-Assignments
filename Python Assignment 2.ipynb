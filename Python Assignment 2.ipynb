{
 "cells": [
  {
   "cell_type": "markdown",
   "id": "3c9dd0eb",
   "metadata": {},
   "source": [
    "# Pyhton assignement 2\n"
   ]
  },
  {
   "cell_type": "code",
   "execution_count": 1,
   "id": "823cbe7a",
   "metadata": {},
   "outputs": [
    {
     "name": "stdout",
     "output_type": "stream",
     "text": [
      "enter size of shape: 5\n",
      " *  \n",
      "\n",
      " *   *  \n",
      "\n",
      " *   *   *  \n",
      "\n",
      " *   *   *   *  \n",
      "\n",
      " *   *   *   *   *  \n",
      "\n",
      " *   *   *   *  \n",
      "\n",
      " *   *   *  \n",
      "\n",
      " *   *  \n",
      "\n",
      " *  \n",
      "\n"
     ]
    }
   ],
   "source": [
    "#problem solution 1\n",
    "\n",
    "shape_length = int(input(\"enter size of shape: \"))\n",
    "for i in range(0,shape_length-1):\n",
    "    for j in range(i+1):\n",
    "     print(\" * \", end=\" \")\n",
    "    print(\"\\n\")\n",
    "for i in range(shape_length-1,-1,-1):\n",
    "    for j in range(i+1):\n",
    "     print(\" * \", end=\" \")\n",
    "    print(\"\\n\")   "
   ]
  },
  {
   "cell_type": "code",
   "execution_count": 2,
   "id": "dbb779c4",
   "metadata": {},
   "outputs": [
    {
     "name": "stdout",
     "output_type": "stream",
     "text": [
      "enter your name: aadesh singh\n",
      "hgnis hsedaa"
     ]
    }
   ],
   "source": [
    "name = input(\"enter your name: \")\n",
    "for s in range(len(name)-1,-1,-1):\n",
    "    print(name[s], end=\"\")"
   ]
  },
  {
   "cell_type": "code",
   "execution_count": null,
   "id": "963f0b36",
   "metadata": {},
   "outputs": [],
   "source": []
  }
 ],
 "metadata": {
  "kernelspec": {
   "display_name": "Python 3",
   "language": "python",
   "name": "python3"
  },
  "language_info": {
   "codemirror_mode": {
    "name": "ipython",
    "version": 3
   },
   "file_extension": ".py",
   "mimetype": "text/x-python",
   "name": "python",
   "nbconvert_exporter": "python",
   "pygments_lexer": "ipython3",
   "version": "3.8.8"
  }
 },
 "nbformat": 4,
 "nbformat_minor": 5
}
