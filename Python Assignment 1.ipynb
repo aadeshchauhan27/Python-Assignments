{
 "cells": [
  {
   "cell_type": "markdown",
   "id": "662af7ef",
   "metadata": {},
   "source": [
    "# Problem 1"
   ]
  },
  {
   "cell_type": "code",
   "execution_count": null,
   "id": "4e2572d0",
   "metadata": {},
   "outputs": [],
   "source": [
    "#Solution for assignment 1\n",
    "\n",
    "numbers_divisible_by_7=[]\n",
    "for x in range(2000, 3200):\n",
    "  if x%7==0 and x%5!=0:\n",
    "    numbers_divisible_by_7.append(x)\n",
    "\n",
    "print(\"Total Numbers: {}\".format(len(numbers_divisible_by_7)))\n",
    "print(numbers_divisible_by_7)"
   ]
  },
  {
   "cell_type": "markdown",
   "id": "80cc9cd8",
   "metadata": {},
   "source": [
    "# Problem 2"
   ]
  },
  {
   "cell_type": "code",
   "execution_count": null,
   "id": "f3beb973",
   "metadata": {},
   "outputs": [],
   "source": [
    "#Solution for assignment 2\n",
    "def PrintName():\n",
    "    firstname= input(\"enter First name:\");\n",
    "    lastname= input(\"enter last name:\");\n",
    "\n",
    "    print(lastname + \" \" + firstname)\n",
    "PrintName()  "
   ]
  },
  {
   "cell_type": "raw",
   "id": "2aacdf12",
   "metadata": {},
   "source": []
  },
  {
   "cell_type": "markdown",
   "id": "06b800e1",
   "metadata": {},
   "source": [
    "# Prolem 3"
   ]
  },
  {
   "cell_type": "code",
   "execution_count": null,
   "id": "b523d304",
   "metadata": {},
   "outputs": [],
   "source": [
    "#Solution for assignment 3\n",
    "pie= 3.142\n",
    "def CalculateSphereVolume():\n",
    "    diameter = int(input(\"enter spehere diameter\"))\n",
    "    volume = 4/3*pie*(diameter/2)**3\n",
    "    print(\"Volume: {}\".format(volume))\n",
    "CalculateSphereVolume()"
   ]
  }
 ],
 "metadata": {
  "kernelspec": {
   "display_name": "Python 3",
   "language": "python",
   "name": "python3"
  },
  "language_info": {
   "codemirror_mode": {
    "name": "ipython",
    "version": 3
   },
   "file_extension": ".py",
   "mimetype": "text/x-python",
   "name": "python",
   "nbconvert_exporter": "python",
   "pygments_lexer": "ipython3",
   "version": "3.8.8"
  }
 },
 "nbformat": 4,
 "nbformat_minor": 5
}
